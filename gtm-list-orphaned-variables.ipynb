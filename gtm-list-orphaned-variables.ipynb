{
  "nbformat": 4,
  "nbformat_minor": 0,
  "metadata": {
    "colab": {
      "provenance": []
    },
    "kernelspec": {
      "name": "python3",
      "display_name": "Python 3"
    },
    "language_info": {
      "name": "python"
    }
  },
  "cells": [
    {
      "cell_type": "markdown",
      "source": [
        "**Upload File**\n",
        "\n",
        "Upload a JSON file exported from GTM under Admin > Export Container"
      ],
      "metadata": {
        "id": "dSQ-a-zH7API"
      }
    },
    {
      "cell_type": "code",
      "execution_count": null,
      "metadata": {
        "id": "dRHVlbzc6twz"
      },
      "outputs": [],
      "source": [
        "from google.colab import files\n",
        "uploaded = files.upload()"
      ]
    },
    {
      "cell_type": "markdown",
      "source": [
        "**Parse the Variables**\n",
        "\n",
        "Drill down into the variable section of the JSON export. Extract the name and ID of each variable. Look for instances matching the name in double curly braces in the entire JSON export and set match to True to denote variables that are in use somewhere in the GTM container\n",
        "\n",
        "Save the variable data to a dictionary and list the first five entries."
      ],
      "metadata": {
        "id": "V5Q7uDUkLobq"
      }
    },
    {
      "cell_type": "code",
      "source": [
        "%%capture\n",
        "!pip install -U 'fsspec[s3]'\n",
        "\n",
        "import json\n",
        "import pandas as pd\n",
        "import re\n",
        "\n",
        "uploaded_json = list(uploaded.values())[0]\n",
        "\n",
        "container = json.loads(uploaded_json.decode('utf-8'))\n",
        "\n",
        "# drill down to the variables section of the container\n",
        "variables = container['containerVersion']['variable'] \n",
        "\n",
        "rows = []\n",
        "\n",
        "for var in variables:\n",
        "  row = {}\n",
        "  row['variableId'] = var['variableId']\n",
        "  row['name'] = var['name']\n",
        "  # variables can be found nearly anywhere; we need to look for the variable name in double curly braces {{var_name}}\n",
        "  pattern = \"{{\" + row['name'] + \"}}\"\n",
        "  if(re.search(pattern, json.dumps(container))):\n",
        "    row['match'] = True\n",
        "  else: \n",
        "    row['match'] = False\n",
        "\n",
        "  rows.append(row)\n",
        "rows[:5]"
      ],
      "metadata": {
        "id": "FFFJVkcxLnBL"
      },
      "execution_count": null,
      "outputs": []
    },
    {
      "cell_type": "markdown",
      "source": [
        "**Convert to DataFrame**\n",
        "\n",
        "Extract the container ID to use as the name of the Google Sheet and then convert the dictionary to a DataFrame. "
      ],
      "metadata": {
        "id": "2ELy-aJXLNge"
      }
    },
    {
      "cell_type": "code",
      "source": [
        "import re\n",
        "container_id = re.findall( \"GTM-[A-Z0-9]+\" , str(uploaded.keys())) \n",
        "\n",
        "data = pd.DataFrame(rows)\n",
        "data.head()"
      ],
      "metadata": {
        "colab": {
          "base_uri": "https://localhost:8080/",
          "height": 206
        },
        "id": "Y67XLmUuO8Ka",
        "outputId": "470b17e1-493a-47d9-fb55-8bb5d8525ef5"
      },
      "execution_count": null,
      "outputs": [
        {
          "output_type": "execute_result",
          "data": {
            "text/plain": [
              "  variableId         name  match\n",
              "0          1          url   True\n",
              "1          2     referrer   True\n",
              "2          3        event  False\n",
              "3          4    URLParams   True\n",
              "4          5  element url   True"
            ],
            "text/html": [
              "\n",
              "  <div id=\"df-dfb1557c-1031-482d-badf-9467e68527b4\">\n",
              "    <div class=\"colab-df-container\">\n",
              "      <div>\n",
              "<style scoped>\n",
              "    .dataframe tbody tr th:only-of-type {\n",
              "        vertical-align: middle;\n",
              "    }\n",
              "\n",
              "    .dataframe tbody tr th {\n",
              "        vertical-align: top;\n",
              "    }\n",
              "\n",
              "    .dataframe thead th {\n",
              "        text-align: right;\n",
              "    }\n",
              "</style>\n",
              "<table border=\"1\" class=\"dataframe\">\n",
              "  <thead>\n",
              "    <tr style=\"text-align: right;\">\n",
              "      <th></th>\n",
              "      <th>variableId</th>\n",
              "      <th>name</th>\n",
              "      <th>match</th>\n",
              "    </tr>\n",
              "  </thead>\n",
              "  <tbody>\n",
              "    <tr>\n",
              "      <th>0</th>\n",
              "      <td>1</td>\n",
              "      <td>url</td>\n",
              "      <td>True</td>\n",
              "    </tr>\n",
              "    <tr>\n",
              "      <th>1</th>\n",
              "      <td>2</td>\n",
              "      <td>referrer</td>\n",
              "      <td>True</td>\n",
              "    </tr>\n",
              "    <tr>\n",
              "      <th>2</th>\n",
              "      <td>3</td>\n",
              "      <td>event</td>\n",
              "      <td>False</td>\n",
              "    </tr>\n",
              "    <tr>\n",
              "      <th>3</th>\n",
              "      <td>4</td>\n",
              "      <td>URLParams</td>\n",
              "      <td>True</td>\n",
              "    </tr>\n",
              "    <tr>\n",
              "      <th>4</th>\n",
              "      <td>5</td>\n",
              "      <td>element url</td>\n",
              "      <td>True</td>\n",
              "    </tr>\n",
              "  </tbody>\n",
              "</table>\n",
              "</div>\n",
              "      <button class=\"colab-df-convert\" onclick=\"convertToInteractive('df-dfb1557c-1031-482d-badf-9467e68527b4')\"\n",
              "              title=\"Convert this dataframe to an interactive table.\"\n",
              "              style=\"display:none;\">\n",
              "        \n",
              "  <svg xmlns=\"http://www.w3.org/2000/svg\" height=\"24px\"viewBox=\"0 0 24 24\"\n",
              "       width=\"24px\">\n",
              "    <path d=\"M0 0h24v24H0V0z\" fill=\"none\"/>\n",
              "    <path d=\"M18.56 5.44l.94 2.06.94-2.06 2.06-.94-2.06-.94-.94-2.06-.94 2.06-2.06.94zm-11 1L8.5 8.5l.94-2.06 2.06-.94-2.06-.94L8.5 2.5l-.94 2.06-2.06.94zm10 10l.94 2.06.94-2.06 2.06-.94-2.06-.94-.94-2.06-.94 2.06-2.06.94z\"/><path d=\"M17.41 7.96l-1.37-1.37c-.4-.4-.92-.59-1.43-.59-.52 0-1.04.2-1.43.59L10.3 9.45l-7.72 7.72c-.78.78-.78 2.05 0 2.83L4 21.41c.39.39.9.59 1.41.59.51 0 1.02-.2 1.41-.59l7.78-7.78 2.81-2.81c.8-.78.8-2.07 0-2.86zM5.41 20L4 18.59l7.72-7.72 1.47 1.35L5.41 20z\"/>\n",
              "  </svg>\n",
              "      </button>\n",
              "      \n",
              "  <style>\n",
              "    .colab-df-container {\n",
              "      display:flex;\n",
              "      flex-wrap:wrap;\n",
              "      gap: 12px;\n",
              "    }\n",
              "\n",
              "    .colab-df-convert {\n",
              "      background-color: #E8F0FE;\n",
              "      border: none;\n",
              "      border-radius: 50%;\n",
              "      cursor: pointer;\n",
              "      display: none;\n",
              "      fill: #1967D2;\n",
              "      height: 32px;\n",
              "      padding: 0 0 0 0;\n",
              "      width: 32px;\n",
              "    }\n",
              "\n",
              "    .colab-df-convert:hover {\n",
              "      background-color: #E2EBFA;\n",
              "      box-shadow: 0px 1px 2px rgba(60, 64, 67, 0.3), 0px 1px 3px 1px rgba(60, 64, 67, 0.15);\n",
              "      fill: #174EA6;\n",
              "    }\n",
              "\n",
              "    [theme=dark] .colab-df-convert {\n",
              "      background-color: #3B4455;\n",
              "      fill: #D2E3FC;\n",
              "    }\n",
              "\n",
              "    [theme=dark] .colab-df-convert:hover {\n",
              "      background-color: #434B5C;\n",
              "      box-shadow: 0px 1px 3px 1px rgba(0, 0, 0, 0.15);\n",
              "      filter: drop-shadow(0px 1px 2px rgba(0, 0, 0, 0.3));\n",
              "      fill: #FFFFFF;\n",
              "    }\n",
              "  </style>\n",
              "\n",
              "      <script>\n",
              "        const buttonEl =\n",
              "          document.querySelector('#df-dfb1557c-1031-482d-badf-9467e68527b4 button.colab-df-convert');\n",
              "        buttonEl.style.display =\n",
              "          google.colab.kernel.accessAllowed ? 'block' : 'none';\n",
              "\n",
              "        async function convertToInteractive(key) {\n",
              "          const element = document.querySelector('#df-dfb1557c-1031-482d-badf-9467e68527b4');\n",
              "          const dataTable =\n",
              "            await google.colab.kernel.invokeFunction('convertToInteractive',\n",
              "                                                     [key], {});\n",
              "          if (!dataTable) return;\n",
              "\n",
              "          const docLinkHtml = 'Like what you see? Visit the ' +\n",
              "            '<a target=\"_blank\" href=https://colab.research.google.com/notebooks/data_table.ipynb>data table notebook</a>'\n",
              "            + ' to learn more about interactive tables.';\n",
              "          element.innerHTML = '';\n",
              "          dataTable['output_type'] = 'display_data';\n",
              "          await google.colab.output.renderOutput(dataTable, element);\n",
              "          const docLink = document.createElement('div');\n",
              "          docLink.innerHTML = docLinkHtml;\n",
              "          element.appendChild(docLink);\n",
              "        }\n",
              "      </script>\n",
              "    </div>\n",
              "  </div>\n",
              "  "
            ]
          },
          "metadata": {},
          "execution_count": 3
        }
      ]
    },
    {
      "cell_type": "markdown",
      "source": [
        "**Authenticate**\n",
        "\n",
        "This will open a new window where you need to log in to Google Accounts, give this Colab permission to access Drive, copy the key that gets generated after giving permission, and finally paste that key back here and complete the authentication.\n",
        "\n",
        "*2022-04-19: Updated authentication method*"
      ],
      "metadata": {
        "id": "7QmdTaXEM2hr"
      }
    },
    {
      "cell_type": "code",
      "source": [
        "# authenticate\n",
        "from google.colab import auth\n",
        "auth.authenticate_user()\n",
        "\n",
        "import gspread\n",
        "from google.auth import default\n",
        "creds, _ = default()\n",
        "\n",
        "gc = gspread.authorize(creds)"
      ],
      "metadata": {
        "id": "Du9F2WEL6YD-"
      },
      "execution_count": null,
      "outputs": []
    },
    {
      "cell_type": "markdown",
      "source": [
        "**Save to Google Sheets**\n",
        "\n",
        "The will save as a GSheet in your Google Drive with the title of \"GTM Variables for GTM-CONTAINERID.\" It will take a few minutes for the data to fully populate in the sheet so be patient."
      ],
      "metadata": {
        "id": "9DqQZinj7Xd2"
      }
    },
    {
      "cell_type": "code",
      "source": [
        "# create, and save df\n",
        "from gspread_dataframe import set_with_dataframe\n",
        "title = 'GTM Variables for ' + container_id[0]\n",
        "gc.create(title)  # if not exist\n",
        "sheet = gc.open(title).sheet1\n",
        "set_with_dataframe(sheet, data) \n",
        "# include_index=False, include_column_header=True, resize=False"
      ],
      "metadata": {
        "id": "U_PAatThMwR4"
      },
      "execution_count": null,
      "outputs": []
    }
  ]
}